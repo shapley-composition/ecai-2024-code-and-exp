{
 "cells": [
  {
   "cell_type": "code",
   "execution_count": 1,
   "id": "b3e1275d",
   "metadata": {},
   "outputs": [],
   "source": [
    "\n",
    "from sklearn.model_selection import train_test_split\n",
    "from sklearn import datasets, svm\n",
    "from sklearn.decomposition import PCA\n",
    "from sklearn.preprocessing import scale\n",
    "import numpy as np\n",
    "from math import sqrt\n",
    "from shapleycomposition import ShapleyExplainer, fig_3D_ilr_space\n",
    "from composition_stats import ilr, sbp_basis\n",
    "from bifurc_tree import create_tree_from_sbp, init_graph, build_graph\n",
    "import plotly.graph_objects as go"
   ]
  },
  {
   "cell_type": "code",
   "execution_count": 2,
   "id": "fa3a0c3f",
   "metadata": {},
   "outputs": [
    {
     "data": {
      "text/html": [
       "<style>#sk-container-id-1 {color: black;}#sk-container-id-1 pre{padding: 0;}#sk-container-id-1 div.sk-toggleable {background-color: white;}#sk-container-id-1 label.sk-toggleable__label {cursor: pointer;display: block;width: 100%;margin-bottom: 0;padding: 0.3em;box-sizing: border-box;text-align: center;}#sk-container-id-1 label.sk-toggleable__label-arrow:before {content: \"▸\";float: left;margin-right: 0.25em;color: #696969;}#sk-container-id-1 label.sk-toggleable__label-arrow:hover:before {color: black;}#sk-container-id-1 div.sk-estimator:hover label.sk-toggleable__label-arrow:before {color: black;}#sk-container-id-1 div.sk-toggleable__content {max-height: 0;max-width: 0;overflow: hidden;text-align: left;background-color: #f0f8ff;}#sk-container-id-1 div.sk-toggleable__content pre {margin: 0.2em;color: black;border-radius: 0.25em;background-color: #f0f8ff;}#sk-container-id-1 input.sk-toggleable__control:checked~div.sk-toggleable__content {max-height: 200px;max-width: 100%;overflow: auto;}#sk-container-id-1 input.sk-toggleable__control:checked~label.sk-toggleable__label-arrow:before {content: \"▾\";}#sk-container-id-1 div.sk-estimator input.sk-toggleable__control:checked~label.sk-toggleable__label {background-color: #d4ebff;}#sk-container-id-1 div.sk-label input.sk-toggleable__control:checked~label.sk-toggleable__label {background-color: #d4ebff;}#sk-container-id-1 input.sk-hidden--visually {border: 0;clip: rect(1px 1px 1px 1px);clip: rect(1px, 1px, 1px, 1px);height: 1px;margin: -1px;overflow: hidden;padding: 0;position: absolute;width: 1px;}#sk-container-id-1 div.sk-estimator {font-family: monospace;background-color: #f0f8ff;border: 1px dotted black;border-radius: 0.25em;box-sizing: border-box;margin-bottom: 0.5em;}#sk-container-id-1 div.sk-estimator:hover {background-color: #d4ebff;}#sk-container-id-1 div.sk-parallel-item::after {content: \"\";width: 100%;border-bottom: 1px solid gray;flex-grow: 1;}#sk-container-id-1 div.sk-label:hover label.sk-toggleable__label {background-color: #d4ebff;}#sk-container-id-1 div.sk-serial::before {content: \"\";position: absolute;border-left: 1px solid gray;box-sizing: border-box;top: 0;bottom: 0;left: 50%;z-index: 0;}#sk-container-id-1 div.sk-serial {display: flex;flex-direction: column;align-items: center;background-color: white;padding-right: 0.2em;padding-left: 0.2em;position: relative;}#sk-container-id-1 div.sk-item {position: relative;z-index: 1;}#sk-container-id-1 div.sk-parallel {display: flex;align-items: stretch;justify-content: center;background-color: white;position: relative;}#sk-container-id-1 div.sk-item::before, #sk-container-id-1 div.sk-parallel-item::before {content: \"\";position: absolute;border-left: 1px solid gray;box-sizing: border-box;top: 0;bottom: 0;left: 50%;z-index: -1;}#sk-container-id-1 div.sk-parallel-item {display: flex;flex-direction: column;z-index: 1;position: relative;background-color: white;}#sk-container-id-1 div.sk-parallel-item:first-child::after {align-self: flex-end;width: 50%;}#sk-container-id-1 div.sk-parallel-item:last-child::after {align-self: flex-start;width: 50%;}#sk-container-id-1 div.sk-parallel-item:only-child::after {width: 0;}#sk-container-id-1 div.sk-dashed-wrapped {border: 1px dashed gray;margin: 0 0.4em 0.5em 0.4em;box-sizing: border-box;padding-bottom: 0.4em;background-color: white;}#sk-container-id-1 div.sk-label label {font-family: monospace;font-weight: bold;display: inline-block;line-height: 1.2em;}#sk-container-id-1 div.sk-label-container {text-align: center;}#sk-container-id-1 div.sk-container {/* jupyter's `normalize.less` sets `[hidden] { display: none; }` but bootstrap.min.css set `[hidden] { display: none !important; }` so we also need the `!important` here to be able to override the default hidden behavior on the sphinx rendered scikit-learn.org. See: https://github.com/scikit-learn/scikit-learn/issues/21755 */display: inline-block !important;position: relative;}#sk-container-id-1 div.sk-text-repr-fallback {display: none;}</style><div id=\"sk-container-id-1\" class=\"sk-top-container\"><div class=\"sk-text-repr-fallback\"><pre>SVC(probability=True)</pre><b>In a Jupyter environment, please rerun this cell to show the HTML representation or trust the notebook. <br />On GitHub, the HTML representation is unable to render, please try loading this page with nbviewer.org.</b></div><div class=\"sk-container\" hidden><div class=\"sk-item\"><div class=\"sk-estimator sk-toggleable\"><input class=\"sk-toggleable__control sk-hidden--visually\" id=\"sk-estimator-id-1\" type=\"checkbox\" checked><label for=\"sk-estimator-id-1\" class=\"sk-toggleable__label sk-toggleable__label-arrow\">SVC</label><div class=\"sk-toggleable__content\"><pre>SVC(probability=True)</pre></div></div></div></div></div>"
      ],
      "text/plain": [
       "SVC(probability=True)"
      ]
     },
     "execution_count": 2,
     "metadata": {},
     "output_type": "execute_result"
    }
   ],
   "source": [
    "K = 10         #Index of the instance you want to test in the test set\n",
    "N_class = 4    #Number of class, the dimension of the simplex is therefore N_class-1\n",
    "N_feat  = 6    #In this example, since the number of feature of the digit dataset is quite large (64), we propose to reduce it with a PCA\n",
    "\n",
    "#load the dataset, take a subset of N_class classes, scale it and split into a training and testing set\n",
    "X, Y = datasets.load_digits(return_X_y=True)\n",
    "X = scale(X)\n",
    "subset_i = np.where(Y < N_class)\n",
    "X = X[subset_i]\n",
    "Y = Y[subset_i]\n",
    "X_train,X_test,Y_train,Y_test = train_test_split(X, Y, test_size=0.2, random_state=0)\n",
    "\n",
    "#Reduce the number of feature to N_feat with a PCA\n",
    "pca = PCA(n_components=N_feat)\n",
    "X_train = pca.fit_transform(X_train)\n",
    "X_test  = pca.transform(X_test)\n",
    "\n",
    "\n",
    "#train an SVM classifier\n",
    "svc_linear = svm.SVC(kernel='rbf', probability=True)\n",
    "svc_linear.fit(X_train, Y_train)"
   ]
  },
  {
   "cell_type": "code",
   "execution_count": 3,
   "id": "857667f0",
   "metadata": {},
   "outputs": [
    {
     "name": "stdout",
     "output_type": "stream",
     "text": [
      "True label of the tested instance: 0\n",
      "Prediction on the simplex: [[0.99459444 0.00120098 0.00230107 0.0019035 ]]\n",
      "Prediction in the ILR space: [4.75118826 2.21218478 1.72851812]\n",
      "Sum of the shapley composition and the base distribution in the ILR space: [4.75118831 2.21218479 1.72851813]\n"
     ]
    }
   ],
   "source": [
    "\n",
    "# explain all the predictions in the test set\n",
    "explainer = ShapleyExplainer(svc_linear.predict_proba, X_train, N_class)\n",
    "(shapley, base) = explainer.explain_instance(np.array(X_test[K]))\n",
    "\n",
    "print(\"True label of the tested instance: \", end=\"\")\n",
    "print(Y_test[K])\n",
    "\n",
    "#get the model prediction for the Kth instance of the test partition\n",
    "pred = svc_linear.predict_proba(X_test[K].reshape(1,-1))\n",
    "print(\"Prediction on the simplex: \",end=\"\")\n",
    "print(pred)\n",
    "ilr_pred = ilr(pred)\n",
    "print(\"Prediction in the ILR space: \",end=\"\")\n",
    "print(ilr_pred)\n",
    "\n",
    "#The sum of the base distribution and the shapley composition in the ILR space is equal to the predicted probability distribution\n",
    "sum_shap_base = np.array(shapley).sum(axis=0)+base\n",
    "print(\"Sum of the shapley composition and the base distribution in the ILR space: \", end=\"\")\n",
    "print(sum_shap_base)"
   ]
  },
  {
   "cell_type": "code",
   "execution_count": 8,
   "id": "c47cf913",
   "metadata": {
    "lines_to_next_cell": 0
   },
   "outputs": [
    {
     "data": {
      "application/vnd.plotly.v1+json": {
       "config": {
        "plotlyServerURL": "https://plot.ly"
       },
       "data": [
        {
         "alphahull": 0,
         "color": "black",
         "opacity": 0.15,
         "type": "mesh3d",
         "x": [
          0,
          32.65986323710904,
          0,
          0
         ],
         "y": [
          0,
          -18.856180831641268,
          37.71236166328253,
          0
         ],
         "z": [
          0,
          -13.333333333333332,
          -13.333333333333332,
          40
         ]
        },
        {
         "alphahull": 0,
         "color": "black",
         "opacity": 0.15,
         "type": "mesh3d",
         "x": [
          -32.65986323710904,
          0,
          0,
          0
         ],
         "y": [
          -18.856180831641268,
          0,
          37.71236166328253,
          0
         ],
         "z": [
          -13.333333333333332,
          0,
          -13.333333333333332,
          40
         ]
        },
        {
         "alphahull": 0,
         "color": "black",
         "opacity": 0.15,
         "type": "mesh3d",
         "x": [
          -32.65986323710904,
          32.65986323710904,
          0,
          0
         ],
         "y": [
          -18.856180831641268,
          -18.856180831641268,
          0,
          0
         ],
         "z": [
          -13.333333333333332,
          -13.333333333333332,
          0,
          40
         ]
        },
        {
         "alphahull": 0,
         "color": "black",
         "opacity": 0.15,
         "type": "mesh3d",
         "x": [
          -32.65986323710904,
          32.65986323710904,
          0,
          0
         ],
         "y": [
          -18.856180831641268,
          -18.856180831641268,
          37.71236166328253,
          0
         ],
         "z": [
          -13.333333333333332,
          -13.333333333333332,
          -13.333333333333332,
          0
         ]
        },
        {
         "legendgroup": "class",
         "legendgrouptitle": {
          "text": "Classes"
         },
         "line": {
          "color": "blue",
          "dash": "dash",
          "width": 5
         },
         "mode": "lines",
         "name": "class 1",
         "type": "scatter3d",
         "x": [
          0,
          0.816496580927726
         ],
         "y": [
          0,
          0.47140452079103173
         ],
         "z": [
          0,
          0.3333333333333333
         ]
        },
        {
         "legendgroup": "class",
         "legendgrouptitle": {
          "text": "Classes"
         },
         "line": {
          "color": "red",
          "dash": "dash",
          "width": 5
         },
         "mode": "lines",
         "name": "class 2",
         "type": "scatter3d",
         "x": [
          0,
          -0.816496580927726
         ],
         "y": [
          0,
          0.47140452079103173
         ],
         "z": [
          0,
          0.3333333333333333
         ]
        },
        {
         "legendgroup": "class",
         "legendgrouptitle": {
          "text": "Classes"
         },
         "line": {
          "color": "green",
          "dash": "dash",
          "width": 5
         },
         "mode": "lines",
         "name": "class 3",
         "type": "scatter3d",
         "x": [
          0,
          0
         ],
         "y": [
          0,
          -0.9428090415820632
         ],
         "z": [
          0,
          0.3333333333333333
         ]
        },
        {
         "legendgroup": "class",
         "legendgrouptitle": {
          "text": "Classes"
         },
         "line": {
          "color": "orange",
          "dash": "dash",
          "width": 5
         },
         "mode": "lines",
         "name": "class 4",
         "type": "scatter3d",
         "x": [
          0,
          0
         ],
         "y": [
          0,
          0
         ],
         "z": [
          0,
          -1
         ]
        },
        {
         "legendgroup": "shapley",
         "legendgrouptitle": {
          "text": "Shapley composition"
         },
         "line": {
          "width": 5
         },
         "mode": "lines",
         "name": "feature n.1",
         "type": "scatter3d",
         "x": [
          0,
          2.886636058246742
         ],
         "y": [
          0,
          3.380643154602973
         ],
         "z": [
          0,
          3.380643154602973
         ]
        },
        {
         "legendgroup": "shapley",
         "legendgrouptitle": {
          "text": "Shapley composition"
         },
         "line": {
          "width": 5
         },
         "mode": "lines",
         "name": "feature n.2",
         "type": "scatter3d",
         "x": [
          0,
          0.7580819526958489
         ],
         "y": [
          0,
          -0.276054497360497
         ],
         "z": [
          0,
          -0.276054497360497
         ]
        },
        {
         "legendgroup": "shapley",
         "legendgrouptitle": {
          "text": "Shapley composition"
         },
         "line": {
          "width": 5
         },
         "mode": "lines",
         "name": "feature n.3",
         "type": "scatter3d",
         "x": [
          0,
          0.7209957914382028
         ],
         "y": [
          0,
          -0.0680389866678091
         ],
         "z": [
          0,
          -0.0680389866678091
         ]
        },
        {
         "legendgroup": "shapley",
         "legendgrouptitle": {
          "text": "Shapley composition"
         },
         "line": {
          "width": 5
         },
         "mode": "lines",
         "name": "feature n.4",
         "type": "scatter3d",
         "x": [
          0,
          0.3724101825574318
         ],
         "y": [
          0,
          0.020955625840963908
         ],
         "z": [
          0,
          0.020955625840963908
         ]
        },
        {
         "legendgroup": "shapley",
         "legendgrouptitle": {
          "text": "Shapley composition"
         },
         "line": {
          "width": 5
         },
         "mode": "lines",
         "name": "feature n.5",
         "type": "scatter3d",
         "x": [
          0,
          0.04328562143331997
         ],
         "y": [
          0,
          -0.016523004262630734
         ],
         "z": [
          0,
          -0.016523004262630734
         ]
        },
        {
         "legendgroup": "shapley",
         "legendgrouptitle": {
          "text": "Shapley composition"
         },
         "line": {
          "width": 5
         },
         "mode": "lines",
         "name": "feature n.6",
         "type": "scatter3d",
         "x": [
          0,
          0.052354267213533624
         ],
         "y": [
          0,
          -0.02866521335350552
         ],
         "z": [
          0,
          -0.02866521335350552
         ]
        }
       ],
       "layout": {
        "autosize": false,
        "font": {
         "size": 10
        },
        "height": 750,
        "legend": {
         "x": 0.01,
         "xanchor": "left",
         "y": 0.99,
         "yanchor": "top"
        },
        "scene": {
         "aspectmode": "auto",
         "aspectratio": {
          "x": 1.1224620483093735,
          "y": 0.972080648619833,
          "z": 0.9164864246657353
         },
         "xaxis": {
          "range": [
           -4,
           4
          ],
          "title": {
           "text": "ilr1"
          },
          "type": "linear"
         },
         "yaxis": {
          "range": [
           -4,
           4
          ],
          "title": {
           "text": "ilr2"
          },
          "type": "linear"
         },
         "zaxis": {
          "range": [
           -4,
           4
          ],
          "title": {
           "text": "ilr3"
          },
          "type": "linear"
         }
        },
        "template": {
         "data": {
          "bar": [
           {
            "error_x": {
             "color": "#2a3f5f"
            },
            "error_y": {
             "color": "#2a3f5f"
            },
            "marker": {
             "line": {
              "color": "#E5ECF6",
              "width": 0.5
             },
             "pattern": {
              "fillmode": "overlay",
              "size": 10,
              "solidity": 0.2
             }
            },
            "type": "bar"
           }
          ],
          "barpolar": [
           {
            "marker": {
             "line": {
              "color": "#E5ECF6",
              "width": 0.5
             },
             "pattern": {
              "fillmode": "overlay",
              "size": 10,
              "solidity": 0.2
             }
            },
            "type": "barpolar"
           }
          ],
          "carpet": [
           {
            "aaxis": {
             "endlinecolor": "#2a3f5f",
             "gridcolor": "white",
             "linecolor": "white",
             "minorgridcolor": "white",
             "startlinecolor": "#2a3f5f"
            },
            "baxis": {
             "endlinecolor": "#2a3f5f",
             "gridcolor": "white",
             "linecolor": "white",
             "minorgridcolor": "white",
             "startlinecolor": "#2a3f5f"
            },
            "type": "carpet"
           }
          ],
          "choropleth": [
           {
            "colorbar": {
             "outlinewidth": 0,
             "ticks": ""
            },
            "type": "choropleth"
           }
          ],
          "contour": [
           {
            "colorbar": {
             "outlinewidth": 0,
             "ticks": ""
            },
            "colorscale": [
             [
              0,
              "#0d0887"
             ],
             [
              0.1111111111111111,
              "#46039f"
             ],
             [
              0.2222222222222222,
              "#7201a8"
             ],
             [
              0.3333333333333333,
              "#9c179e"
             ],
             [
              0.4444444444444444,
              "#bd3786"
             ],
             [
              0.5555555555555556,
              "#d8576b"
             ],
             [
              0.6666666666666666,
              "#ed7953"
             ],
             [
              0.7777777777777778,
              "#fb9f3a"
             ],
             [
              0.8888888888888888,
              "#fdca26"
             ],
             [
              1,
              "#f0f921"
             ]
            ],
            "type": "contour"
           }
          ],
          "contourcarpet": [
           {
            "colorbar": {
             "outlinewidth": 0,
             "ticks": ""
            },
            "type": "contourcarpet"
           }
          ],
          "heatmap": [
           {
            "colorbar": {
             "outlinewidth": 0,
             "ticks": ""
            },
            "colorscale": [
             [
              0,
              "#0d0887"
             ],
             [
              0.1111111111111111,
              "#46039f"
             ],
             [
              0.2222222222222222,
              "#7201a8"
             ],
             [
              0.3333333333333333,
              "#9c179e"
             ],
             [
              0.4444444444444444,
              "#bd3786"
             ],
             [
              0.5555555555555556,
              "#d8576b"
             ],
             [
              0.6666666666666666,
              "#ed7953"
             ],
             [
              0.7777777777777778,
              "#fb9f3a"
             ],
             [
              0.8888888888888888,
              "#fdca26"
             ],
             [
              1,
              "#f0f921"
             ]
            ],
            "type": "heatmap"
           }
          ],
          "heatmapgl": [
           {
            "colorbar": {
             "outlinewidth": 0,
             "ticks": ""
            },
            "colorscale": [
             [
              0,
              "#0d0887"
             ],
             [
              0.1111111111111111,
              "#46039f"
             ],
             [
              0.2222222222222222,
              "#7201a8"
             ],
             [
              0.3333333333333333,
              "#9c179e"
             ],
             [
              0.4444444444444444,
              "#bd3786"
             ],
             [
              0.5555555555555556,
              "#d8576b"
             ],
             [
              0.6666666666666666,
              "#ed7953"
             ],
             [
              0.7777777777777778,
              "#fb9f3a"
             ],
             [
              0.8888888888888888,
              "#fdca26"
             ],
             [
              1,
              "#f0f921"
             ]
            ],
            "type": "heatmapgl"
           }
          ],
          "histogram": [
           {
            "marker": {
             "pattern": {
              "fillmode": "overlay",
              "size": 10,
              "solidity": 0.2
             }
            },
            "type": "histogram"
           }
          ],
          "histogram2d": [
           {
            "colorbar": {
             "outlinewidth": 0,
             "ticks": ""
            },
            "colorscale": [
             [
              0,
              "#0d0887"
             ],
             [
              0.1111111111111111,
              "#46039f"
             ],
             [
              0.2222222222222222,
              "#7201a8"
             ],
             [
              0.3333333333333333,
              "#9c179e"
             ],
             [
              0.4444444444444444,
              "#bd3786"
             ],
             [
              0.5555555555555556,
              "#d8576b"
             ],
             [
              0.6666666666666666,
              "#ed7953"
             ],
             [
              0.7777777777777778,
              "#fb9f3a"
             ],
             [
              0.8888888888888888,
              "#fdca26"
             ],
             [
              1,
              "#f0f921"
             ]
            ],
            "type": "histogram2d"
           }
          ],
          "histogram2dcontour": [
           {
            "colorbar": {
             "outlinewidth": 0,
             "ticks": ""
            },
            "colorscale": [
             [
              0,
              "#0d0887"
             ],
             [
              0.1111111111111111,
              "#46039f"
             ],
             [
              0.2222222222222222,
              "#7201a8"
             ],
             [
              0.3333333333333333,
              "#9c179e"
             ],
             [
              0.4444444444444444,
              "#bd3786"
             ],
             [
              0.5555555555555556,
              "#d8576b"
             ],
             [
              0.6666666666666666,
              "#ed7953"
             ],
             [
              0.7777777777777778,
              "#fb9f3a"
             ],
             [
              0.8888888888888888,
              "#fdca26"
             ],
             [
              1,
              "#f0f921"
             ]
            ],
            "type": "histogram2dcontour"
           }
          ],
          "mesh3d": [
           {
            "colorbar": {
             "outlinewidth": 0,
             "ticks": ""
            },
            "type": "mesh3d"
           }
          ],
          "parcoords": [
           {
            "line": {
             "colorbar": {
              "outlinewidth": 0,
              "ticks": ""
             }
            },
            "type": "parcoords"
           }
          ],
          "pie": [
           {
            "automargin": true,
            "type": "pie"
           }
          ],
          "scatter": [
           {
            "fillpattern": {
             "fillmode": "overlay",
             "size": 10,
             "solidity": 0.2
            },
            "type": "scatter"
           }
          ],
          "scatter3d": [
           {
            "line": {
             "colorbar": {
              "outlinewidth": 0,
              "ticks": ""
             }
            },
            "marker": {
             "colorbar": {
              "outlinewidth": 0,
              "ticks": ""
             }
            },
            "type": "scatter3d"
           }
          ],
          "scattercarpet": [
           {
            "marker": {
             "colorbar": {
              "outlinewidth": 0,
              "ticks": ""
             }
            },
            "type": "scattercarpet"
           }
          ],
          "scattergeo": [
           {
            "marker": {
             "colorbar": {
              "outlinewidth": 0,
              "ticks": ""
             }
            },
            "type": "scattergeo"
           }
          ],
          "scattergl": [
           {
            "marker": {
             "colorbar": {
              "outlinewidth": 0,
              "ticks": ""
             }
            },
            "type": "scattergl"
           }
          ],
          "scattermapbox": [
           {
            "marker": {
             "colorbar": {
              "outlinewidth": 0,
              "ticks": ""
             }
            },
            "type": "scattermapbox"
           }
          ],
          "scatterpolar": [
           {
            "marker": {
             "colorbar": {
              "outlinewidth": 0,
              "ticks": ""
             }
            },
            "type": "scatterpolar"
           }
          ],
          "scatterpolargl": [
           {
            "marker": {
             "colorbar": {
              "outlinewidth": 0,
              "ticks": ""
             }
            },
            "type": "scatterpolargl"
           }
          ],
          "scatterternary": [
           {
            "marker": {
             "colorbar": {
              "outlinewidth": 0,
              "ticks": ""
             }
            },
            "type": "scatterternary"
           }
          ],
          "surface": [
           {
            "colorbar": {
             "outlinewidth": 0,
             "ticks": ""
            },
            "colorscale": [
             [
              0,
              "#0d0887"
             ],
             [
              0.1111111111111111,
              "#46039f"
             ],
             [
              0.2222222222222222,
              "#7201a8"
             ],
             [
              0.3333333333333333,
              "#9c179e"
             ],
             [
              0.4444444444444444,
              "#bd3786"
             ],
             [
              0.5555555555555556,
              "#d8576b"
             ],
             [
              0.6666666666666666,
              "#ed7953"
             ],
             [
              0.7777777777777778,
              "#fb9f3a"
             ],
             [
              0.8888888888888888,
              "#fdca26"
             ],
             [
              1,
              "#f0f921"
             ]
            ],
            "type": "surface"
           }
          ],
          "table": [
           {
            "cells": {
             "fill": {
              "color": "#EBF0F8"
             },
             "line": {
              "color": "white"
             }
            },
            "header": {
             "fill": {
              "color": "#C8D4E3"
             },
             "line": {
              "color": "white"
             }
            },
            "type": "table"
           }
          ]
         },
         "layout": {
          "annotationdefaults": {
           "arrowcolor": "#2a3f5f",
           "arrowhead": 0,
           "arrowwidth": 1
          },
          "autotypenumbers": "strict",
          "coloraxis": {
           "colorbar": {
            "outlinewidth": 0,
            "ticks": ""
           }
          },
          "colorscale": {
           "diverging": [
            [
             0,
             "#8e0152"
            ],
            [
             0.1,
             "#c51b7d"
            ],
            [
             0.2,
             "#de77ae"
            ],
            [
             0.3,
             "#f1b6da"
            ],
            [
             0.4,
             "#fde0ef"
            ],
            [
             0.5,
             "#f7f7f7"
            ],
            [
             0.6,
             "#e6f5d0"
            ],
            [
             0.7,
             "#b8e186"
            ],
            [
             0.8,
             "#7fbc41"
            ],
            [
             0.9,
             "#4d9221"
            ],
            [
             1,
             "#276419"
            ]
           ],
           "sequential": [
            [
             0,
             "#0d0887"
            ],
            [
             0.1111111111111111,
             "#46039f"
            ],
            [
             0.2222222222222222,
             "#7201a8"
            ],
            [
             0.3333333333333333,
             "#9c179e"
            ],
            [
             0.4444444444444444,
             "#bd3786"
            ],
            [
             0.5555555555555556,
             "#d8576b"
            ],
            [
             0.6666666666666666,
             "#ed7953"
            ],
            [
             0.7777777777777778,
             "#fb9f3a"
            ],
            [
             0.8888888888888888,
             "#fdca26"
            ],
            [
             1,
             "#f0f921"
            ]
           ],
           "sequentialminus": [
            [
             0,
             "#0d0887"
            ],
            [
             0.1111111111111111,
             "#46039f"
            ],
            [
             0.2222222222222222,
             "#7201a8"
            ],
            [
             0.3333333333333333,
             "#9c179e"
            ],
            [
             0.4444444444444444,
             "#bd3786"
            ],
            [
             0.5555555555555556,
             "#d8576b"
            ],
            [
             0.6666666666666666,
             "#ed7953"
            ],
            [
             0.7777777777777778,
             "#fb9f3a"
            ],
            [
             0.8888888888888888,
             "#fdca26"
            ],
            [
             1,
             "#f0f921"
            ]
           ]
          },
          "colorway": [
           "#636efa",
           "#EF553B",
           "#00cc96",
           "#ab63fa",
           "#FFA15A",
           "#19d3f3",
           "#FF6692",
           "#B6E880",
           "#FF97FF",
           "#FECB52"
          ],
          "font": {
           "color": "#2a3f5f"
          },
          "geo": {
           "bgcolor": "white",
           "lakecolor": "white",
           "landcolor": "#E5ECF6",
           "showlakes": true,
           "showland": true,
           "subunitcolor": "white"
          },
          "hoverlabel": {
           "align": "left"
          },
          "hovermode": "closest",
          "mapbox": {
           "style": "light"
          },
          "paper_bgcolor": "white",
          "plot_bgcolor": "#E5ECF6",
          "polar": {
           "angularaxis": {
            "gridcolor": "white",
            "linecolor": "white",
            "ticks": ""
           },
           "bgcolor": "#E5ECF6",
           "radialaxis": {
            "gridcolor": "white",
            "linecolor": "white",
            "ticks": ""
           }
          },
          "scene": {
           "xaxis": {
            "backgroundcolor": "#E5ECF6",
            "gridcolor": "white",
            "gridwidth": 2,
            "linecolor": "white",
            "showbackground": true,
            "ticks": "",
            "zerolinecolor": "white"
           },
           "yaxis": {
            "backgroundcolor": "#E5ECF6",
            "gridcolor": "white",
            "gridwidth": 2,
            "linecolor": "white",
            "showbackground": true,
            "ticks": "",
            "zerolinecolor": "white"
           },
           "zaxis": {
            "backgroundcolor": "#E5ECF6",
            "gridcolor": "white",
            "gridwidth": 2,
            "linecolor": "white",
            "showbackground": true,
            "ticks": "",
            "zerolinecolor": "white"
           }
          },
          "shapedefaults": {
           "line": {
            "color": "#2a3f5f"
           }
          },
          "ternary": {
           "aaxis": {
            "gridcolor": "white",
            "linecolor": "white",
            "ticks": ""
           },
           "baxis": {
            "gridcolor": "white",
            "linecolor": "white",
            "ticks": ""
           },
           "bgcolor": "#E5ECF6",
           "caxis": {
            "gridcolor": "white",
            "linecolor": "white",
            "ticks": ""
           }
          },
          "title": {
           "x": 0.05
          },
          "xaxis": {
           "automargin": true,
           "gridcolor": "white",
           "linecolor": "white",
           "ticks": "",
           "title": {
            "standoff": 15
           },
           "zerolinecolor": "white",
           "zerolinewidth": 2
          },
          "yaxis": {
           "automargin": true,
           "gridcolor": "white",
           "linecolor": "white",
           "ticks": "",
           "title": {
            "standoff": 15
           },
           "zerolinecolor": "white",
           "zerolinewidth": 2
          }
         }
        },
        "width": 750
       }
      },
      "image/png": "[encoded data removed]",
      "text/html": [
       "<div>                            <div id=\"32d8a731-23c8-43e2-963c-d6456ee531e3\" class=\"plotly-graph-div\" style=\"height:750px; width:750px;\"></div>            <script type=\"text/javascript\">                require([\"plotly\"], function(Plotly) {                    window.PLOTLYENV=window.PLOTLYENV || {};                                    if (document.getElementById(\"32d8a731-23c8-43e2-963c-d6456ee531e3\")) {                    Plotly.newPlot(                        \"32d8a731-23c8-43e2-963c-d6456ee531e3\",                        [{\"alphahull\":0,\"color\":\"black\",\"opacity\":0.15,\"x\":[0.0,32.65986323710904,-0.0,-0.0],\"y\":[0.0,-18.856180831641268,37.71236166328253,-0.0],\"z\":[0.0,-13.333333333333332,-13.333333333333332,40.0],\"type\":\"mesh3d\"},{\"alphahull\":0,\"color\":\"black\",\"opacity\":0.15,\"x\":[-32.65986323710904,0.0,-0.0,-0.0],\"y\":[-18.856180831641268,0.0,37.71236166328253,-0.0],\"z\":[-13.333333333333332,0.0,-13.333333333333332,40.0],\"type\":\"mesh3d\"},{\"alphahull\":0,\"color\":\"black\",\"opacity\":0.15,\"x\":[-32.65986323710904,32.65986323710904,0.0,-0.0],\"y\":[-18.856180831641268,-18.856180831641268,0.0,-0.0],\"z\":[-13.333333333333332,-13.333333333333332,0.0,40.0],\"type\":\"mesh3d\"},{\"alphahull\":0,\"color\":\"black\",\"opacity\":0.15,\"x\":[-32.65986323710904,32.65986323710904,-0.0,0.0],\"y\":[-18.856180831641268,-18.856180831641268,37.71236166328253,0.0],\"z\":[-13.333333333333332,-13.333333333333332,-13.333333333333332,0.0],\"type\":\"mesh3d\"},{\"legendgroup\":\"class\",\"legendgrouptitle\":{\"text\":\"Classes\"},\"line\":{\"color\":\"blue\",\"dash\":\"dash\",\"width\":5},\"mode\":\"lines\",\"name\":\"class 1\",\"x\":[0,0.816496580927726],\"y\":[0,0.47140452079103173],\"z\":[0,0.3333333333333333],\"type\":\"scatter3d\"},{\"legendgroup\":\"class\",\"legendgrouptitle\":{\"text\":\"Classes\"},\"line\":{\"color\":\"red\",\"dash\":\"dash\",\"width\":5},\"mode\":\"lines\",\"name\":\"class 2\",\"x\":[0,-0.816496580927726],\"y\":[0,0.47140452079103173],\"z\":[0,0.3333333333333333],\"type\":\"scatter3d\"},{\"legendgroup\":\"class\",\"legendgrouptitle\":{\"text\":\"Classes\"},\"line\":{\"color\":\"green\",\"dash\":\"dash\",\"width\":5},\"mode\":\"lines\",\"name\":\"class 3\",\"x\":[0,0.0],\"y\":[0,-0.9428090415820632],\"z\":[0,0.3333333333333333],\"type\":\"scatter3d\"},{\"legendgroup\":\"class\",\"legendgrouptitle\":{\"text\":\"Classes\"},\"line\":{\"color\":\"orange\",\"dash\":\"dash\",\"width\":5},\"mode\":\"lines\",\"name\":\"class 4\",\"x\":[0,0.0],\"y\":[0,0.0],\"z\":[0,-1.0],\"type\":\"scatter3d\"},{\"legendgroup\":\"shapley\",\"legendgrouptitle\":{\"text\":\"Shapley composition\"},\"line\":{\"width\":5},\"mode\":\"lines\",\"name\":\"feature n.1\",\"x\":[0,2.886636058246742],\"y\":[0,3.380643154602973],\"z\":[0,3.380643154602973],\"type\":\"scatter3d\"},{\"legendgroup\":\"shapley\",\"legendgrouptitle\":{\"text\":\"Shapley composition\"},\"line\":{\"width\":5},\"mode\":\"lines\",\"name\":\"feature n.2\",\"x\":[0,0.7580819526958489],\"y\":[0,-0.276054497360497],\"z\":[0,-0.276054497360497],\"type\":\"scatter3d\"},{\"legendgroup\":\"shapley\",\"legendgrouptitle\":{\"text\":\"Shapley composition\"},\"line\":{\"width\":5},\"mode\":\"lines\",\"name\":\"feature n.3\",\"x\":[0,0.7209957914382028],\"y\":[0,-0.0680389866678091],\"z\":[0,-0.0680389866678091],\"type\":\"scatter3d\"},{\"legendgroup\":\"shapley\",\"legendgrouptitle\":{\"text\":\"Shapley composition\"},\"line\":{\"width\":5},\"mode\":\"lines\",\"name\":\"feature n.4\",\"x\":[0,0.3724101825574318],\"y\":[0,0.020955625840963908],\"z\":[0,0.020955625840963908],\"type\":\"scatter3d\"},{\"legendgroup\":\"shapley\",\"legendgrouptitle\":{\"text\":\"Shapley composition\"},\"line\":{\"width\":5},\"mode\":\"lines\",\"name\":\"feature n.5\",\"x\":[0,0.04328562143331997],\"y\":[0,-0.016523004262630734],\"z\":[0,-0.016523004262630734],\"type\":\"scatter3d\"},{\"legendgroup\":\"shapley\",\"legendgrouptitle\":{\"text\":\"Shapley composition\"},\"line\":{\"width\":5},\"mode\":\"lines\",\"name\":\"feature n.6\",\"x\":[0,0.052354267213533624],\"y\":[0,-0.02866521335350552],\"z\":[0,-0.02866521335350552],\"type\":\"scatter3d\"}],                        {\"autosize\":false,\"height\":750,\"width\":750,\"template\":{\"data\":{\"histogram2dcontour\":[{\"type\":\"histogram2dcontour\",\"colorbar\":{\"outlinewidth\":0,\"ticks\":\"\"},\"colorscale\":[[0.0,\"#0d0887\"],[0.1111111111111111,\"#46039f\"],[0.2222222222222222,\"#7201a8\"],[0.3333333333333333,\"#9c179e\"],[0.4444444444444444,\"#bd3786\"],[0.5555555555555556,\"#d8576b\"],[0.6666666666666666,\"#ed7953\"],[0.7777777777777778,\"#fb9f3a\"],[0.8888888888888888,\"#fdca26\"],[1.0,\"#f0f921\"]]}],\"choropleth\":[{\"type\":\"choropleth\",\"colorbar\":{\"outlinewidth\":0,\"ticks\":\"\"}}],\"histogram2d\":[{\"type\":\"histogram2d\",\"colorbar\":{\"outlinewidth\":0,\"ticks\":\"\"},\"colorscale\":[[0.0,\"#0d0887\"],[0.1111111111111111,\"#46039f\"],[0.2222222222222222,\"#7201a8\"],[0.3333333333333333,\"#9c179e\"],[0.4444444444444444,\"#bd3786\"],[0.5555555555555556,\"#d8576b\"],[0.6666666666666666,\"#ed7953\"],[0.7777777777777778,\"#fb9f3a\"],[0.8888888888888888,\"#fdca26\"],[1.0,\"#f0f921\"]]}],\"heatmap\":[{\"type\":\"heatmap\",\"colorbar\":{\"outlinewidth\":0,\"ticks\":\"\"},\"colorscale\":[[0.0,\"#0d0887\"],[0.1111111111111111,\"#46039f\"],[0.2222222222222222,\"#7201a8\"],[0.3333333333333333,\"#9c179e\"],[0.4444444444444444,\"#bd3786\"],[0.5555555555555556,\"#d8576b\"],[0.6666666666666666,\"#ed7953\"],[0.7777777777777778,\"#fb9f3a\"],[0.8888888888888888,\"#fdca26\"],[1.0,\"#f0f921\"]]}],\"heatmapgl\":[{\"type\":\"heatmapgl\",\"colorbar\":{\"outlinewidth\":0,\"ticks\":\"\"},\"colorscale\":[[0.0,\"#0d0887\"],[0.1111111111111111,\"#46039f\"],[0.2222222222222222,\"#7201a8\"],[0.3333333333333333,\"#9c179e\"],[0.4444444444444444,\"#bd3786\"],[0.5555555555555556,\"#d8576b\"],[0.6666666666666666,\"#ed7953\"],[0.7777777777777778,\"#fb9f3a\"],[0.8888888888888888,\"#fdca26\"],[1.0,\"#f0f921\"]]}],\"contourcarpet\":[{\"type\":\"contourcarpet\",\"colorbar\":{\"outlinewidth\":0,\"ticks\":\"\"}}],\"contour\":[{\"type\":\"contour\",\"colorbar\":{\"outlinewidth\":0,\"ticks\":\"\"},\"colorscale\":[[0.0,\"#0d0887\"],[0.1111111111111111,\"#46039f\"],[0.2222222222222222,\"#7201a8\"],[0.3333333333333333,\"#9c179e\"],[0.4444444444444444,\"#bd3786\"],[0.5555555555555556,\"#d8576b\"],[0.6666666666666666,\"#ed7953\"],[0.7777777777777778,\"#fb9f3a\"],[0.8888888888888888,\"#fdca26\"],[1.0,\"#f0f921\"]]}],\"surface\":[{\"type\":\"surface\",\"colorbar\":{\"outlinewidth\":0,\"ticks\":\"\"},\"colorscale\":[[0.0,\"#0d0887\"],[0.1111111111111111,\"#46039f\"],[0.2222222222222222,\"#7201a8\"],[0.3333333333333333,\"#9c179e\"],[0.4444444444444444,\"#bd3786\"],[0.5555555555555556,\"#d8576b\"],[0.6666666666666666,\"#ed7953\"],[0.7777777777777778,\"#fb9f3a\"],[0.8888888888888888,\"#fdca26\"],[1.0,\"#f0f921\"]]}],\"mesh3d\":[{\"type\":\"mesh3d\",\"colorbar\":{\"outlinewidth\":0,\"ticks\":\"\"}}],\"scatter\":[{\"fillpattern\":{\"fillmode\":\"overlay\",\"size\":10,\"solidity\":0.2},\"type\":\"scatter\"}],\"parcoords\":[{\"type\":\"parcoords\",\"line\":{\"colorbar\":{\"outlinewidth\":0,\"ticks\":\"\"}}}],\"scatterpolargl\":[{\"type\":\"scatterpolargl\",\"marker\":{\"colorbar\":{\"outlinewidth\":0,\"ticks\":\"\"}}}],\"bar\":[{\"error_x\":{\"color\":\"#2a3f5f\"},\"error_y\":{\"color\":\"#2a3f5f\"},\"marker\":{\"line\":{\"color\":\"#E5ECF6\",\"width\":0.5},\"pattern\":{\"fillmode\":\"overlay\",\"size\":10,\"solidity\":0.2}},\"type\":\"bar\"}],\"scattergeo\":[{\"type\":\"scattergeo\",\"marker\":{\"colorbar\":{\"outlinewidth\":0,\"ticks\":\"\"}}}],\"scatterpolar\":[{\"type\":\"scatterpolar\",\"marker\":{\"colorbar\":{\"outlinewidth\":0,\"ticks\":\"\"}}}],\"histogram\":[{\"marker\":{\"pattern\":{\"fillmode\":\"overlay\",\"size\":10,\"solidity\":0.2}},\"type\":\"histogram\"}],\"scattergl\":[{\"type\":\"scattergl\",\"marker\":{\"colorbar\":{\"outlinewidth\":0,\"ticks\":\"\"}}}],\"scatter3d\":[{\"type\":\"scatter3d\",\"line\":{\"colorbar\":{\"outlinewidth\":0,\"ticks\":\"\"}},\"marker\":{\"colorbar\":{\"outlinewidth\":0,\"ticks\":\"\"}}}],\"scattermapbox\":[{\"type\":\"scattermapbox\",\"marker\":{\"colorbar\":{\"outlinewidth\":0,\"ticks\":\"\"}}}],\"scatterternary\":[{\"type\":\"scatterternary\",\"marker\":{\"colorbar\":{\"outlinewidth\":0,\"ticks\":\"\"}}}],\"scattercarpet\":[{\"type\":\"scattercarpet\",\"marker\":{\"colorbar\":{\"outlinewidth\":0,\"ticks\":\"\"}}}],\"carpet\":[{\"aaxis\":{\"endlinecolor\":\"#2a3f5f\",\"gridcolor\":\"white\",\"linecolor\":\"white\",\"minorgridcolor\":\"white\",\"startlinecolor\":\"#2a3f5f\"},\"baxis\":{\"endlinecolor\":\"#2a3f5f\",\"gridcolor\":\"white\",\"linecolor\":\"white\",\"minorgridcolor\":\"white\",\"startlinecolor\":\"#2a3f5f\"},\"type\":\"carpet\"}],\"table\":[{\"cells\":{\"fill\":{\"color\":\"#EBF0F8\"},\"line\":{\"color\":\"white\"}},\"header\":{\"fill\":{\"color\":\"#C8D4E3\"},\"line\":{\"color\":\"white\"}},\"type\":\"table\"}],\"barpolar\":[{\"marker\":{\"line\":{\"color\":\"#E5ECF6\",\"width\":0.5},\"pattern\":{\"fillmode\":\"overlay\",\"size\":10,\"solidity\":0.2}},\"type\":\"barpolar\"}],\"pie\":[{\"automargin\":true,\"type\":\"pie\"}]},\"layout\":{\"autotypenumbers\":\"strict\",\"colorway\":[\"#636efa\",\"#EF553B\",\"#00cc96\",\"#ab63fa\",\"#FFA15A\",\"#19d3f3\",\"#FF6692\",\"#B6E880\",\"#FF97FF\",\"#FECB52\"],\"font\":{\"color\":\"#2a3f5f\"},\"hovermode\":\"closest\",\"hoverlabel\":{\"align\":\"left\"},\"paper_bgcolor\":\"white\",\"plot_bgcolor\":\"#E5ECF6\",\"polar\":{\"bgcolor\":\"#E5ECF6\",\"angularaxis\":{\"gridcolor\":\"white\",\"linecolor\":\"white\",\"ticks\":\"\"},\"radialaxis\":{\"gridcolor\":\"white\",\"linecolor\":\"white\",\"ticks\":\"\"}},\"ternary\":{\"bgcolor\":\"#E5ECF6\",\"aaxis\":{\"gridcolor\":\"white\",\"linecolor\":\"white\",\"ticks\":\"\"},\"baxis\":{\"gridcolor\":\"white\",\"linecolor\":\"white\",\"ticks\":\"\"},\"caxis\":{\"gridcolor\":\"white\",\"linecolor\":\"white\",\"ticks\":\"\"}},\"coloraxis\":{\"colorbar\":{\"outlinewidth\":0,\"ticks\":\"\"}},\"colorscale\":{\"sequential\":[[0.0,\"#0d0887\"],[0.1111111111111111,\"#46039f\"],[0.2222222222222222,\"#7201a8\"],[0.3333333333333333,\"#9c179e\"],[0.4444444444444444,\"#bd3786\"],[0.5555555555555556,\"#d8576b\"],[0.6666666666666666,\"#ed7953\"],[0.7777777777777778,\"#fb9f3a\"],[0.8888888888888888,\"#fdca26\"],[1.0,\"#f0f921\"]],\"sequentialminus\":[[0.0,\"#0d0887\"],[0.1111111111111111,\"#46039f\"],[0.2222222222222222,\"#7201a8\"],[0.3333333333333333,\"#9c179e\"],[0.4444444444444444,\"#bd3786\"],[0.5555555555555556,\"#d8576b\"],[0.6666666666666666,\"#ed7953\"],[0.7777777777777778,\"#fb9f3a\"],[0.8888888888888888,\"#fdca26\"],[1.0,\"#f0f921\"]],\"diverging\":[[0,\"#8e0152\"],[0.1,\"#c51b7d\"],[0.2,\"#de77ae\"],[0.3,\"#f1b6da\"],[0.4,\"#fde0ef\"],[0.5,\"#f7f7f7\"],[0.6,\"#e6f5d0\"],[0.7,\"#b8e186\"],[0.8,\"#7fbc41\"],[0.9,\"#4d9221\"],[1,\"#276419\"]]},\"xaxis\":{\"gridcolor\":\"white\",\"linecolor\":\"white\",\"ticks\":\"\",\"title\":{\"standoff\":15},\"zerolinecolor\":\"white\",\"automargin\":true,\"zerolinewidth\":2},\"yaxis\":{\"gridcolor\":\"white\",\"linecolor\":\"white\",\"ticks\":\"\",\"title\":{\"standoff\":15},\"zerolinecolor\":\"white\",\"automargin\":true,\"zerolinewidth\":2},\"scene\":{\"xaxis\":{\"backgroundcolor\":\"#E5ECF6\",\"gridcolor\":\"white\",\"linecolor\":\"white\",\"showbackground\":true,\"ticks\":\"\",\"zerolinecolor\":\"white\",\"gridwidth\":2},\"yaxis\":{\"backgroundcolor\":\"#E5ECF6\",\"gridcolor\":\"white\",\"linecolor\":\"white\",\"showbackground\":true,\"ticks\":\"\",\"zerolinecolor\":\"white\",\"gridwidth\":2},\"zaxis\":{\"backgroundcolor\":\"#E5ECF6\",\"gridcolor\":\"white\",\"linecolor\":\"white\",\"showbackground\":true,\"ticks\":\"\",\"zerolinecolor\":\"white\",\"gridwidth\":2}},\"shapedefaults\":{\"line\":{\"color\":\"#2a3f5f\"}},\"annotationdefaults\":{\"arrowcolor\":\"#2a3f5f\",\"arrowhead\":0,\"arrowwidth\":1},\"geo\":{\"bgcolor\":\"white\",\"landcolor\":\"#E5ECF6\",\"subunitcolor\":\"white\",\"showland\":true,\"showlakes\":true,\"lakecolor\":\"white\"},\"title\":{\"x\":0.05},\"mapbox\":{\"style\":\"light\"}}},\"legend\":{\"yanchor\":\"top\",\"y\":0.99,\"xanchor\":\"left\",\"x\":0.01},\"font\":{\"size\":10},\"scene\":{\"xaxis\":{\"title\":{\"text\":\"ilr1\"},\"range\":[-4,4]},\"yaxis\":{\"title\":{\"text\":\"ilr2\"},\"range\":[-4,4]},\"zaxis\":{\"title\":{\"text\":\"ilr3\"},\"range\":[-4,4]}}},                        {\"responsive\": true}                    ).then(function(){\n",
       "                            \n",
       "var gd = document.getElementById('32d8a731-23c8-43e2-963c-d6456ee531e3');\n",
       "var x = new MutationObserver(function (mutations, observer) {{\n",
       "        var display = window.getComputedStyle(gd).display;\n",
       "        if (!display || display === 'none') {{\n",
       "            console.log([gd, 'removed!']);\n",
       "            Plotly.purge(gd);\n",
       "            observer.disconnect();\n",
       "        }}\n",
       "}});\n",
       "\n",
       "// Listen for the removal of the full notebook cells\n",
       "var notebookContainer = gd.closest('#notebook-container');\n",
       "if (notebookContainer) {{\n",
       "    x.observe(notebookContainer, {childList: true});\n",
       "}}\n",
       "\n",
       "// Listen for the clearing of the current output cell\n",
       "var outputEl = gd.closest('.output');\n",
       "if (outputEl) {{\n",
       "    x.observe(outputEl, {childList: true});\n",
       "}}\n",
       "\n",
       "                        })                };                });            </script>        </div>"
      ]
     },
     "metadata": {},
     "output_type": "display_data"
    }
   ],
   "source": [
    "#PLOT THE SHAPLEY COMPOSITION IN THE 3D ILR SPACE (with gram-schmidt basis)\n",
    "\n",
    "fig = fig_3D_ilr_space(lim=4, figsize=750)\n",
    "\n",
    "#Draw the shapley compositions\n",
    "for i,s in enumerate(shapley):\n",
    "    fig.add_trace(go.Scatter3d(x=[0,s[0]],y=[0,s[1]], z=[0,s[1]], mode='lines', line={'width' : 5}, name='feature n.'+str(i+1),\n",
    "                             legendgroup='shapley', legendgrouptitle_text='Shapley composition'))\n",
    "\n",
    "fig.show()"
   ]
  },
  {
   "cell_type": "code",
   "execution_count": 9,
   "id": "40db191d",
   "metadata": {},
   "outputs": [
    {
     "data": {
      "application/vnd.plotly.v1+json": {
       "config": {
        "plotlyServerURL": "https://plot.ly"
       },
       "data": [
        {
         "alphahull": 0,
         "color": "black",
         "opacity": 0.15,
         "type": "mesh3d",
         "x": [
          0,
          48.98979485566356,
          0,
          0
         ],
         "y": [
          0,
          -28.284271247461906,
          56.5685424949238,
          0
         ],
         "z": [
          0,
          -20,
          -20,
          60
         ]
        },
        {
         "alphahull": 0,
         "color": "black",
         "opacity": 0.15,
         "type": "mesh3d",
         "x": [
          -48.98979485566356,
          0,
          0,
          0
         ],
         "y": [
          -28.284271247461906,
          0,
          56.5685424949238,
          0
         ],
         "z": [
          -20,
          0,
          -20,
          60
         ]
        },
        {
         "alphahull": 0,
         "color": "black",
         "opacity": 0.15,
         "type": "mesh3d",
         "x": [
          -48.98979485566356,
          48.98979485566356,
          0,
          0
         ],
         "y": [
          -28.284271247461906,
          -28.284271247461906,
          0,
          0
         ],
         "z": [
          -20,
          -20,
          0,
          60
         ]
        },
        {
         "alphahull": 0,
         "color": "black",
         "opacity": 0.15,
         "type": "mesh3d",
         "x": [
          -48.98979485566356,
          48.98979485566356,
          0,
          0
         ],
         "y": [
          -28.284271247461906,
          -28.284271247461906,
          56.5685424949238,
          0
         ],
         "z": [
          -20,
          -20,
          -20,
          0
         ]
        },
        {
         "legendgroup": "class",
         "legendgrouptitle": {
          "text": "Classes"
         },
         "line": {
          "color": "blue",
          "dash": "dash",
          "width": 5
         },
         "mode": "lines",
         "name": "class 1",
         "type": "scatter3d",
         "x": [
          0,
          0.816496580927726
         ],
         "y": [
          0,
          0.47140452079103173
         ],
         "z": [
          0,
          0.3333333333333333
         ]
        },
        {
         "legendgroup": "class",
         "legendgrouptitle": {
          "text": "Classes"
         },
         "line": {
          "color": "red",
          "dash": "dash",
          "width": 5
         },
         "mode": "lines",
         "name": "class 2",
         "type": "scatter3d",
         "x": [
          0,
          -0.816496580927726
         ],
         "y": [
          0,
          0.47140452079103173
         ],
         "z": [
          0,
          0.3333333333333333
         ]
        },
        {
         "legendgroup": "class",
         "legendgrouptitle": {
          "text": "Classes"
         },
         "line": {
          "color": "green",
          "dash": "dash",
          "width": 5
         },
         "mode": "lines",
         "name": "class 3",
         "type": "scatter3d",
         "x": [
          0,
          0
         ],
         "y": [
          0,
          -0.9428090415820632
         ],
         "z": [
          0,
          0.3333333333333333
         ]
        },
        {
         "legendgroup": "class",
         "legendgrouptitle": {
          "text": "Classes"
         },
         "line": {
          "color": "orange",
          "dash": "dash",
          "width": 5
         },
         "mode": "lines",
         "name": "class 4",
         "type": "scatter3d",
         "x": [
          0,
          0
         ],
         "y": [
          0,
          0
         ],
         "z": [
          0,
          -1
         ]
        },
        {
         "marker": {
          "size": 4
         },
         "mode": "markers",
         "name": "base",
         "type": "scatter3d",
         "x": [
          -0.08257556072366534
         ],
         "y": [
          -0.8001322916208692
         ],
         "z": [
          -0.23413900801362475
         ]
        },
        {
         "marker": {
          "size": 4
         },
         "mode": "markers",
         "name": "prediction",
         "type": "scatter3d",
         "x": [
          4.751188261401405
         ],
         "y": [
          2.2121847809726534
         ],
         "z": [
          1.7285181214810603
         ]
        },
        {
         "legendgroup": "shapley",
         "legendgrouptitle": {
          "text": "Shapley composition"
         },
         "line": {
          "width": 5
         },
         "mode": "lines",
         "name": "feature n.1",
         "type": "scatter3d",
         "x": [
          -0.08257556072366534,
          2.8040604975230767
         ],
         "y": [
          -0.8001322916208692,
          2.580510862982104
         ],
         "z": [
          -0.23413900801362475,
          0.5890700060245484
         ]
        },
        {
         "legendgroup": "shapley",
         "legendgrouptitle": {
          "text": "Shapley composition"
         },
         "line": {
          "width": 5
         },
         "mode": "lines",
         "name": "feature n.2",
         "type": "scatter3d",
         "x": [
          2.8040604975230767,
          3.562142450218926
         ],
         "y": [
          2.580510862982104,
          2.304456365621607
         ],
         "z": [
          0.5890700060245484,
          0.08976495085156011
         ]
        },
        {
         "legendgroup": "shapley",
         "legendgrouptitle": {
          "text": "Shapley composition"
         },
         "line": {
          "width": 5
         },
         "mode": "lines",
         "name": "feature n.3",
         "type": "scatter3d",
         "x": [
          3.562142450218926,
          4.283138241657129
         ],
         "y": [
          2.304456365621607,
          2.2364173789537976
         ],
         "z": [
          0.08976495085156011,
          1.6786374051065605
         ]
        },
        {
         "legendgroup": "shapley",
         "legendgrouptitle": {
          "text": "Shapley composition"
         },
         "line": {
          "width": 5
         },
         "mode": "lines",
         "name": "feature n.4",
         "type": "scatter3d",
         "x": [
          4.283138241657129,
          4.655548424214561
         ],
         "y": [
          2.2364173789537976,
          2.2573730047947613
         ],
         "z": [
          1.6786374051065605,
          1.6808654611216474
         ]
        },
        {
         "legendgroup": "shapley",
         "legendgrouptitle": {
          "text": "Shapley composition"
         },
         "line": {
          "width": 5
         },
         "mode": "lines",
         "name": "feature n.5",
         "type": "scatter3d",
         "x": [
          4.655548424214561,
          4.698834045647881
         ],
         "y": [
          2.2573730047947613,
          2.240850000532131
         ],
         "z": [
          1.6808654611216474,
          1.7146096231741377
         ]
        },
        {
         "legendgroup": "shapley",
         "legendgrouptitle": {
          "text": "Shapley composition"
         },
         "line": {
          "width": 5
         },
         "mode": "lines",
         "name": "feature n.6",
         "type": "scatter3d",
         "x": [
          4.698834045647881,
          4.751188312861414
         ],
         "y": [
          2.240850000532131,
          2.212184787178625
         ],
         "z": [
          1.7146096231741377,
          1.7285181266299041
         ]
        }
       ],
       "layout": {
        "autosize": false,
        "font": {
         "size": 10
        },
        "height": 750,
        "legend": {
         "x": 0.01,
         "xanchor": "left",
         "y": 0.99,
         "yanchor": "top"
        },
        "scene": {
         "aspectmode": "auto",
         "aspectratio": {
          "x": 1.1224620483093732,
          "y": 0.9720806486198331,
          "z": 0.9164864246657353
         },
         "xaxis": {
          "range": [
           -6,
           6
          ],
          "title": {
           "text": "ilr1"
          },
          "type": "linear"
         },
         "yaxis": {
          "range": [
           -6,
           6
          ],
          "title": {
           "text": "ilr2"
          },
          "type": "linear"
         },
         "zaxis": {
          "range": [
           -6,
           6
          ],
          "title": {
           "text": "ilr3"
          },
          "type": "linear"
         }
        },
        "template": {
         "data": {
          "bar": [
           {
            "error_x": {
             "color": "#2a3f5f"
            },
            "error_y": {
             "color": "#2a3f5f"
            },
            "marker": {
             "line": {
              "color": "#E5ECF6",
              "width": 0.5
             },
             "pattern": {
              "fillmode": "overlay",
              "size": 10,
              "solidity": 0.2
             }
            },
            "type": "bar"
           }
          ],
          "barpolar": [
           {
            "marker": {
             "line": {
              "color": "#E5ECF6",
              "width": 0.5
             },
             "pattern": {
              "fillmode": "overlay",
              "size": 10,
              "solidity": 0.2
             }
            },
            "type": "barpolar"
           }
          ],
          "carpet": [
           {
            "aaxis": {
             "endlinecolor": "#2a3f5f",
             "gridcolor": "white",
             "linecolor": "white",
             "minorgridcolor": "white",
             "startlinecolor": "#2a3f5f"
            },
            "baxis": {
             "endlinecolor": "#2a3f5f",
             "gridcolor": "white",
             "linecolor": "white",
             "minorgridcolor": "white",
             "startlinecolor": "#2a3f5f"
            },
            "type": "carpet"
           }
          ],
          "choropleth": [
           {
            "colorbar": {
             "outlinewidth": 0,
             "ticks": ""
            },
            "type": "choropleth"
           }
          ],
          "contour": [
           {
            "colorbar": {
             "outlinewidth": 0,
             "ticks": ""
            },
            "colorscale": [
             [
              0,
              "#0d0887"
             ],
             [
              0.1111111111111111,
              "#46039f"
             ],
             [
              0.2222222222222222,
              "#7201a8"
             ],
             [
              0.3333333333333333,
              "#9c179e"
             ],
             [
              0.4444444444444444,
              "#bd3786"
             ],
             [
              0.5555555555555556,
              "#d8576b"
             ],
             [
              0.6666666666666666,
              "#ed7953"
             ],
             [
              0.7777777777777778,
              "#fb9f3a"
             ],
             [
              0.8888888888888888,
              "#fdca26"
             ],
             [
              1,
              "#f0f921"
             ]
            ],
            "type": "contour"
           }
          ],
          "contourcarpet": [
           {
            "colorbar": {
             "outlinewidth": 0,
             "ticks": ""
            },
            "type": "contourcarpet"
           }
          ],
          "heatmap": [
           {
            "colorbar": {
             "outlinewidth": 0,
             "ticks": ""
            },
            "colorscale": [
             [
              0,
              "#0d0887"
             ],
             [
              0.1111111111111111,
              "#46039f"
             ],
             [
              0.2222222222222222,
              "#7201a8"
             ],
             [
              0.3333333333333333,
              "#9c179e"
             ],
             [
              0.4444444444444444,
              "#bd3786"
             ],
             [
              0.5555555555555556,
              "#d8576b"
             ],
             [
              0.6666666666666666,
              "#ed7953"
             ],
             [
              0.7777777777777778,
              "#fb9f3a"
             ],
             [
              0.8888888888888888,
              "#fdca26"
             ],
             [
              1,
              "#f0f921"
             ]
            ],
            "type": "heatmap"
           }
          ],
          "heatmapgl": [
           {
            "colorbar": {
             "outlinewidth": 0,
             "ticks": ""
            },
            "colorscale": [
             [
              0,
              "#0d0887"
             ],
             [
              0.1111111111111111,
              "#46039f"
             ],
             [
              0.2222222222222222,
              "#7201a8"
             ],
             [
              0.3333333333333333,
              "#9c179e"
             ],
             [
              0.4444444444444444,
              "#bd3786"
             ],
             [
              0.5555555555555556,
              "#d8576b"
             ],
             [
              0.6666666666666666,
              "#ed7953"
             ],
             [
              0.7777777777777778,
              "#fb9f3a"
             ],
             [
              0.8888888888888888,
              "#fdca26"
             ],
             [
              1,
              "#f0f921"
             ]
            ],
            "type": "heatmapgl"
           }
          ],
          "histogram": [
           {
            "marker": {
             "pattern": {
              "fillmode": "overlay",
              "size": 10,
              "solidity": 0.2
             }
            },
            "type": "histogram"
           }
          ],
          "histogram2d": [
           {
            "colorbar": {
             "outlinewidth": 0,
             "ticks": ""
            },
            "colorscale": [
             [
              0,
              "#0d0887"
             ],
             [
              0.1111111111111111,
              "#46039f"
             ],
             [
              0.2222222222222222,
              "#7201a8"
             ],
             [
              0.3333333333333333,
              "#9c179e"
             ],
             [
              0.4444444444444444,
              "#bd3786"
             ],
             [
              0.5555555555555556,
              "#d8576b"
             ],
             [
              0.6666666666666666,
              "#ed7953"
             ],
             [
              0.7777777777777778,
              "#fb9f3a"
             ],
             [
              0.8888888888888888,
              "#fdca26"
             ],
             [
              1,
              "#f0f921"
             ]
            ],
            "type": "histogram2d"
           }
          ],
          "histogram2dcontour": [
           {
            "colorbar": {
             "outlinewidth": 0,
             "ticks": ""
            },
            "colorscale": [
             [
              0,
              "#0d0887"
             ],
             [
              0.1111111111111111,
              "#46039f"
             ],
             [
              0.2222222222222222,
              "#7201a8"
             ],
             [
              0.3333333333333333,
              "#9c179e"
             ],
             [
              0.4444444444444444,
              "#bd3786"
             ],
             [
              0.5555555555555556,
              "#d8576b"
             ],
             [
              0.6666666666666666,
              "#ed7953"
             ],
             [
              0.7777777777777778,
              "#fb9f3a"
             ],
             [
              0.8888888888888888,
              "#fdca26"
             ],
             [
              1,
              "#f0f921"
             ]
            ],
            "type": "histogram2dcontour"
           }
          ],
          "mesh3d": [
           {
            "colorbar": {
             "outlinewidth": 0,
             "ticks": ""
            },
            "type": "mesh3d"
           }
          ],
          "parcoords": [
           {
            "line": {
             "colorbar": {
              "outlinewidth": 0,
              "ticks": ""
             }
            },
            "type": "parcoords"
           }
          ],
          "pie": [
           {
            "automargin": true,
            "type": "pie"
           }
          ],
          "scatter": [
           {
            "fillpattern": {
             "fillmode": "overlay",
             "size": 10,
             "solidity": 0.2
            },
            "type": "scatter"
           }
          ],
          "scatter3d": [
           {
            "line": {
             "colorbar": {
              "outlinewidth": 0,
              "ticks": ""
             }
            },
            "marker": {
             "colorbar": {
              "outlinewidth": 0,
              "ticks": ""
             }
            },
            "type": "scatter3d"
           }
          ],
          "scattercarpet": [
           {
            "marker": {
             "colorbar": {
              "outlinewidth": 0,
              "ticks": ""
             }
            },
            "type": "scattercarpet"
           }
          ],
          "scattergeo": [
           {
            "marker": {
             "colorbar": {
              "outlinewidth": 0,
              "ticks": ""
             }
            },
            "type": "scattergeo"
           }
          ],
          "scattergl": [
           {
            "marker": {
             "colorbar": {
              "outlinewidth": 0,
              "ticks": ""
             }
            },
            "type": "scattergl"
           }
          ],
          "scattermapbox": [
           {
            "marker": {
             "colorbar": {
              "outlinewidth": 0,
              "ticks": ""
             }
            },
            "type": "scattermapbox"
           }
          ],
          "scatterpolar": [
           {
            "marker": {
             "colorbar": {
              "outlinewidth": 0,
              "ticks": ""
             }
            },
            "type": "scatterpolar"
           }
          ],
          "scatterpolargl": [
           {
            "marker": {
             "colorbar": {
              "outlinewidth": 0,
              "ticks": ""
             }
            },
            "type": "scatterpolargl"
           }
          ],
          "scatterternary": [
           {
            "marker": {
             "colorbar": {
              "outlinewidth": 0,
              "ticks": ""
             }
            },
            "type": "scatterternary"
           }
          ],
          "surface": [
           {
            "colorbar": {
             "outlinewidth": 0,
             "ticks": ""
            },
            "colorscale": [
             [
              0,
              "#0d0887"
             ],
             [
              0.1111111111111111,
              "#46039f"
             ],
             [
              0.2222222222222222,
              "#7201a8"
             ],
             [
              0.3333333333333333,
              "#9c179e"
             ],
             [
              0.4444444444444444,
              "#bd3786"
             ],
             [
              0.5555555555555556,
              "#d8576b"
             ],
             [
              0.6666666666666666,
              "#ed7953"
             ],
             [
              0.7777777777777778,
              "#fb9f3a"
             ],
             [
              0.8888888888888888,
              "#fdca26"
             ],
             [
              1,
              "#f0f921"
             ]
            ],
            "type": "surface"
           }
          ],
          "table": [
           {
            "cells": {
             "fill": {
              "color": "#EBF0F8"
             },
             "line": {
              "color": "white"
             }
            },
            "header": {
             "fill": {
              "color": "#C8D4E3"
             },
             "line": {
              "color": "white"
             }
            },
            "type": "table"
           }
          ]
         },
         "layout": {
          "annotationdefaults": {
           "arrowcolor": "#2a3f5f",
           "arrowhead": 0,
           "arrowwidth": 1
          },
          "autotypenumbers": "strict",
          "coloraxis": {
           "colorbar": {
            "outlinewidth": 0,
            "ticks": ""
           }
          },
          "colorscale": {
           "diverging": [
            [
             0,
             "#8e0152"
            ],
            [
             0.1,
             "#c51b7d"
            ],
            [
             0.2,
             "#de77ae"
            ],
            [
             0.3,
             "#f1b6da"
            ],
            [
             0.4,
             "#fde0ef"
            ],
            [
             0.5,
             "#f7f7f7"
            ],
            [
             0.6,
             "#e6f5d0"
            ],
            [
             0.7,
             "#b8e186"
            ],
            [
             0.8,
             "#7fbc41"
            ],
            [
             0.9,
             "#4d9221"
            ],
            [
             1,
             "#276419"
            ]
           ],
           "sequential": [
            [
             0,
             "#0d0887"
            ],
            [
             0.1111111111111111,
             "#46039f"
            ],
            [
             0.2222222222222222,
             "#7201a8"
            ],
            [
             0.3333333333333333,
             "#9c179e"
            ],
            [
             0.4444444444444444,
             "#bd3786"
            ],
            [
             0.5555555555555556,
             "#d8576b"
            ],
            [
             0.6666666666666666,
             "#ed7953"
            ],
            [
             0.7777777777777778,
             "#fb9f3a"
            ],
            [
             0.8888888888888888,
             "#fdca26"
            ],
            [
             1,
             "#f0f921"
            ]
           ],
           "sequentialminus": [
            [
             0,
             "#0d0887"
            ],
            [
             0.1111111111111111,
             "#46039f"
            ],
            [
             0.2222222222222222,
             "#7201a8"
            ],
            [
             0.3333333333333333,
             "#9c179e"
            ],
            [
             0.4444444444444444,
             "#bd3786"
            ],
            [
             0.5555555555555556,
             "#d8576b"
            ],
            [
             0.6666666666666666,
             "#ed7953"
            ],
            [
             0.7777777777777778,
             "#fb9f3a"
            ],
            [
             0.8888888888888888,
             "#fdca26"
            ],
            [
             1,
             "#f0f921"
            ]
           ]
          },
          "colorway": [
           "#636efa",
           "#EF553B",
           "#00cc96",
           "#ab63fa",
           "#FFA15A",
           "#19d3f3",
           "#FF6692",
           "#B6E880",
           "#FF97FF",
           "#FECB52"
          ],
          "font": {
           "color": "#2a3f5f"
          },
          "geo": {
           "bgcolor": "white",
           "lakecolor": "white",
           "landcolor": "#E5ECF6",
           "showlakes": true,
           "showland": true,
           "subunitcolor": "white"
          },
          "hoverlabel": {
           "align": "left"
          },
          "hovermode": "closest",
          "mapbox": {
           "style": "light"
          },
          "paper_bgcolor": "white",
          "plot_bgcolor": "#E5ECF6",
          "polar": {
           "angularaxis": {
            "gridcolor": "white",
            "linecolor": "white",
            "ticks": ""
           },
           "bgcolor": "#E5ECF6",
           "radialaxis": {
            "gridcolor": "white",
            "linecolor": "white",
            "ticks": ""
           }
          },
          "scene": {
           "xaxis": {
            "backgroundcolor": "#E5ECF6",
            "gridcolor": "white",
            "gridwidth": 2,
            "linecolor": "white",
            "showbackground": true,
            "ticks": "",
            "zerolinecolor": "white"
           },
           "yaxis": {
            "backgroundcolor": "#E5ECF6",
            "gridcolor": "white",
            "gridwidth": 2,
            "linecolor": "white",
            "showbackground": true,
            "ticks": "",
            "zerolinecolor": "white"
           },
           "zaxis": {
            "backgroundcolor": "#E5ECF6",
            "gridcolor": "white",
            "gridwidth": 2,
            "linecolor": "white",
            "showbackground": true,
            "ticks": "",
            "zerolinecolor": "white"
           }
          },
          "shapedefaults": {
           "line": {
            "color": "#2a3f5f"
           }
          },
          "ternary": {
           "aaxis": {
            "gridcolor": "white",
            "linecolor": "white",
            "ticks": ""
           },
           "baxis": {
            "gridcolor": "white",
            "linecolor": "white",
            "ticks": ""
           },
           "bgcolor": "#E5ECF6",
           "caxis": {
            "gridcolor": "white",
            "linecolor": "white",
            "ticks": ""
           }
          },
          "title": {
           "x": 0.05
          },
          "xaxis": {
           "automargin": true,
           "gridcolor": "white",
           "linecolor": "white",
           "ticks": "",
           "title": {
            "standoff": 15
           },
           "zerolinecolor": "white",
           "zerolinewidth": 2
          },
          "yaxis": {
           "automargin": true,
           "gridcolor": "white",
           "linecolor": "white",
           "ticks": "",
           "title": {
            "standoff": 15
           },
           "zerolinecolor": "white",
           "zerolinewidth": 2
          }
         }
        },
        "width": 750
       }
      },
      "image/png": "[encoded data removed]",
      "text/html": [
       "<div>                            <div id=\"2e70a624-3b13-458a-8a32-f13f35ccd1b6\" class=\"plotly-graph-div\" style=\"height:750px; width:750px;\"></div>            <script type=\"text/javascript\">                require([\"plotly\"], function(Plotly) {                    window.PLOTLYENV=window.PLOTLYENV || {};                                    if (document.getElementById(\"2e70a624-3b13-458a-8a32-f13f35ccd1b6\")) {                    Plotly.newPlot(                        \"2e70a624-3b13-458a-8a32-f13f35ccd1b6\",                        [{\"alphahull\":0,\"color\":\"black\",\"opacity\":0.15,\"x\":[0.0,48.98979485566356,-0.0,-0.0],\"y\":[0.0,-28.284271247461906,56.5685424949238,-0.0],\"z\":[0.0,-20.0,-20.0,60.0],\"type\":\"mesh3d\"},{\"alphahull\":0,\"color\":\"black\",\"opacity\":0.15,\"x\":[-48.98979485566356,0.0,-0.0,-0.0],\"y\":[-28.284271247461906,0.0,56.5685424949238,-0.0],\"z\":[-20.0,0.0,-20.0,60.0],\"type\":\"mesh3d\"},{\"alphahull\":0,\"color\":\"black\",\"opacity\":0.15,\"x\":[-48.98979485566356,48.98979485566356,0.0,-0.0],\"y\":[-28.284271247461906,-28.284271247461906,0.0,-0.0],\"z\":[-20.0,-20.0,0.0,60.0],\"type\":\"mesh3d\"},{\"alphahull\":0,\"color\":\"black\",\"opacity\":0.15,\"x\":[-48.98979485566356,48.98979485566356,-0.0,0.0],\"y\":[-28.284271247461906,-28.284271247461906,56.5685424949238,0.0],\"z\":[-20.0,-20.0,-20.0,0.0],\"type\":\"mesh3d\"},{\"legendgroup\":\"class\",\"legendgrouptitle\":{\"text\":\"Classes\"},\"line\":{\"color\":\"blue\",\"dash\":\"dash\",\"width\":5},\"mode\":\"lines\",\"name\":\"class 1\",\"x\":[0,0.816496580927726],\"y\":[0,0.47140452079103173],\"z\":[0,0.3333333333333333],\"type\":\"scatter3d\"},{\"legendgroup\":\"class\",\"legendgrouptitle\":{\"text\":\"Classes\"},\"line\":{\"color\":\"red\",\"dash\":\"dash\",\"width\":5},\"mode\":\"lines\",\"name\":\"class 2\",\"x\":[0,-0.816496580927726],\"y\":[0,0.47140452079103173],\"z\":[0,0.3333333333333333],\"type\":\"scatter3d\"},{\"legendgroup\":\"class\",\"legendgrouptitle\":{\"text\":\"Classes\"},\"line\":{\"color\":\"green\",\"dash\":\"dash\",\"width\":5},\"mode\":\"lines\",\"name\":\"class 3\",\"x\":[0,0.0],\"y\":[0,-0.9428090415820632],\"z\":[0,0.3333333333333333],\"type\":\"scatter3d\"},{\"legendgroup\":\"class\",\"legendgrouptitle\":{\"text\":\"Classes\"},\"line\":{\"color\":\"orange\",\"dash\":\"dash\",\"width\":5},\"mode\":\"lines\",\"name\":\"class 4\",\"x\":[0,0.0],\"y\":[0,0.0],\"z\":[0,-1.0],\"type\":\"scatter3d\"},{\"marker\":{\"size\":4},\"mode\":\"markers\",\"name\":\"base\",\"x\":[-0.08257556072366534],\"y\":[-0.8001322916208692],\"z\":[-0.23413900801362475],\"type\":\"scatter3d\"},{\"marker\":{\"size\":4},\"mode\":\"markers\",\"name\":\"prediction\",\"x\":[4.751188261401405],\"y\":[2.2121847809726534],\"z\":[1.7285181214810603],\"type\":\"scatter3d\"},{\"legendgroup\":\"shapley\",\"legendgrouptitle\":{\"text\":\"Shapley composition\"},\"line\":{\"width\":5},\"mode\":\"lines\",\"name\":\"feature n.1\",\"x\":[-0.08257556072366534,2.8040604975230767],\"y\":[-0.8001322916208692,2.580510862982104],\"z\":[-0.23413900801362475,0.5890700060245484],\"type\":\"scatter3d\"},{\"legendgroup\":\"shapley\",\"legendgrouptitle\":{\"text\":\"Shapley composition\"},\"line\":{\"width\":5},\"mode\":\"lines\",\"name\":\"feature n.2\",\"x\":[2.8040604975230767,3.562142450218926],\"y\":[2.580510862982104,2.304456365621607],\"z\":[0.5890700060245484,0.08976495085156011],\"type\":\"scatter3d\"},{\"legendgroup\":\"shapley\",\"legendgrouptitle\":{\"text\":\"Shapley composition\"},\"line\":{\"width\":5},\"mode\":\"lines\",\"name\":\"feature n.3\",\"x\":[3.562142450218926,4.283138241657129],\"y\":[2.304456365621607,2.2364173789537976],\"z\":[0.08976495085156011,1.6786374051065605],\"type\":\"scatter3d\"},{\"legendgroup\":\"shapley\",\"legendgrouptitle\":{\"text\":\"Shapley composition\"},\"line\":{\"width\":5},\"mode\":\"lines\",\"name\":\"feature n.4\",\"x\":[4.283138241657129,4.655548424214561],\"y\":[2.2364173789537976,2.2573730047947613],\"z\":[1.6786374051065605,1.6808654611216474],\"type\":\"scatter3d\"},{\"legendgroup\":\"shapley\",\"legendgrouptitle\":{\"text\":\"Shapley composition\"},\"line\":{\"width\":5},\"mode\":\"lines\",\"name\":\"feature n.5\",\"x\":[4.655548424214561,4.698834045647881],\"y\":[2.2573730047947613,2.240850000532131],\"z\":[1.6808654611216474,1.7146096231741377],\"type\":\"scatter3d\"},{\"legendgroup\":\"shapley\",\"legendgrouptitle\":{\"text\":\"Shapley composition\"},\"line\":{\"width\":5},\"mode\":\"lines\",\"name\":\"feature n.6\",\"x\":[4.698834045647881,4.751188312861414],\"y\":[2.240850000532131,2.212184787178625],\"z\":[1.7146096231741377,1.7285181266299041],\"type\":\"scatter3d\"}],                        {\"autosize\":false,\"height\":750,\"width\":750,\"template\":{\"data\":{\"histogram2dcontour\":[{\"type\":\"histogram2dcontour\",\"colorbar\":{\"outlinewidth\":0,\"ticks\":\"\"},\"colorscale\":[[0.0,\"#0d0887\"],[0.1111111111111111,\"#46039f\"],[0.2222222222222222,\"#7201a8\"],[0.3333333333333333,\"#9c179e\"],[0.4444444444444444,\"#bd3786\"],[0.5555555555555556,\"#d8576b\"],[0.6666666666666666,\"#ed7953\"],[0.7777777777777778,\"#fb9f3a\"],[0.8888888888888888,\"#fdca26\"],[1.0,\"#f0f921\"]]}],\"choropleth\":[{\"type\":\"choropleth\",\"colorbar\":{\"outlinewidth\":0,\"ticks\":\"\"}}],\"histogram2d\":[{\"type\":\"histogram2d\",\"colorbar\":{\"outlinewidth\":0,\"ticks\":\"\"},\"colorscale\":[[0.0,\"#0d0887\"],[0.1111111111111111,\"#46039f\"],[0.2222222222222222,\"#7201a8\"],[0.3333333333333333,\"#9c179e\"],[0.4444444444444444,\"#bd3786\"],[0.5555555555555556,\"#d8576b\"],[0.6666666666666666,\"#ed7953\"],[0.7777777777777778,\"#fb9f3a\"],[0.8888888888888888,\"#fdca26\"],[1.0,\"#f0f921\"]]}],\"heatmap\":[{\"type\":\"heatmap\",\"colorbar\":{\"outlinewidth\":0,\"ticks\":\"\"},\"colorscale\":[[0.0,\"#0d0887\"],[0.1111111111111111,\"#46039f\"],[0.2222222222222222,\"#7201a8\"],[0.3333333333333333,\"#9c179e\"],[0.4444444444444444,\"#bd3786\"],[0.5555555555555556,\"#d8576b\"],[0.6666666666666666,\"#ed7953\"],[0.7777777777777778,\"#fb9f3a\"],[0.8888888888888888,\"#fdca26\"],[1.0,\"#f0f921\"]]}],\"heatmapgl\":[{\"type\":\"heatmapgl\",\"colorbar\":{\"outlinewidth\":0,\"ticks\":\"\"},\"colorscale\":[[0.0,\"#0d0887\"],[0.1111111111111111,\"#46039f\"],[0.2222222222222222,\"#7201a8\"],[0.3333333333333333,\"#9c179e\"],[0.4444444444444444,\"#bd3786\"],[0.5555555555555556,\"#d8576b\"],[0.6666666666666666,\"#ed7953\"],[0.7777777777777778,\"#fb9f3a\"],[0.8888888888888888,\"#fdca26\"],[1.0,\"#f0f921\"]]}],\"contourcarpet\":[{\"type\":\"contourcarpet\",\"colorbar\":{\"outlinewidth\":0,\"ticks\":\"\"}}],\"contour\":[{\"type\":\"contour\",\"colorbar\":{\"outlinewidth\":0,\"ticks\":\"\"},\"colorscale\":[[0.0,\"#0d0887\"],[0.1111111111111111,\"#46039f\"],[0.2222222222222222,\"#7201a8\"],[0.3333333333333333,\"#9c179e\"],[0.4444444444444444,\"#bd3786\"],[0.5555555555555556,\"#d8576b\"],[0.6666666666666666,\"#ed7953\"],[0.7777777777777778,\"#fb9f3a\"],[0.8888888888888888,\"#fdca26\"],[1.0,\"#f0f921\"]]}],\"surface\":[{\"type\":\"surface\",\"colorbar\":{\"outlinewidth\":0,\"ticks\":\"\"},\"colorscale\":[[0.0,\"#0d0887\"],[0.1111111111111111,\"#46039f\"],[0.2222222222222222,\"#7201a8\"],[0.3333333333333333,\"#9c179e\"],[0.4444444444444444,\"#bd3786\"],[0.5555555555555556,\"#d8576b\"],[0.6666666666666666,\"#ed7953\"],[0.7777777777777778,\"#fb9f3a\"],[0.8888888888888888,\"#fdca26\"],[1.0,\"#f0f921\"]]}],\"mesh3d\":[{\"type\":\"mesh3d\",\"colorbar\":{\"outlinewidth\":0,\"ticks\":\"\"}}],\"scatter\":[{\"fillpattern\":{\"fillmode\":\"overlay\",\"size\":10,\"solidity\":0.2},\"type\":\"scatter\"}],\"parcoords\":[{\"type\":\"parcoords\",\"line\":{\"colorbar\":{\"outlinewidth\":0,\"ticks\":\"\"}}}],\"scatterpolargl\":[{\"type\":\"scatterpolargl\",\"marker\":{\"colorbar\":{\"outlinewidth\":0,\"ticks\":\"\"}}}],\"bar\":[{\"error_x\":{\"color\":\"#2a3f5f\"},\"error_y\":{\"color\":\"#2a3f5f\"},\"marker\":{\"line\":{\"color\":\"#E5ECF6\",\"width\":0.5},\"pattern\":{\"fillmode\":\"overlay\",\"size\":10,\"solidity\":0.2}},\"type\":\"bar\"}],\"scattergeo\":[{\"type\":\"scattergeo\",\"marker\":{\"colorbar\":{\"outlinewidth\":0,\"ticks\":\"\"}}}],\"scatterpolar\":[{\"type\":\"scatterpolar\",\"marker\":{\"colorbar\":{\"outlinewidth\":0,\"ticks\":\"\"}}}],\"histogram\":[{\"marker\":{\"pattern\":{\"fillmode\":\"overlay\",\"size\":10,\"solidity\":0.2}},\"type\":\"histogram\"}],\"scattergl\":[{\"type\":\"scattergl\",\"marker\":{\"colorbar\":{\"outlinewidth\":0,\"ticks\":\"\"}}}],\"scatter3d\":[{\"type\":\"scatter3d\",\"line\":{\"colorbar\":{\"outlinewidth\":0,\"ticks\":\"\"}},\"marker\":{\"colorbar\":{\"outlinewidth\":0,\"ticks\":\"\"}}}],\"scattermapbox\":[{\"type\":\"scattermapbox\",\"marker\":{\"colorbar\":{\"outlinewidth\":0,\"ticks\":\"\"}}}],\"scatterternary\":[{\"type\":\"scatterternary\",\"marker\":{\"colorbar\":{\"outlinewidth\":0,\"ticks\":\"\"}}}],\"scattercarpet\":[{\"type\":\"scattercarpet\",\"marker\":{\"colorbar\":{\"outlinewidth\":0,\"ticks\":\"\"}}}],\"carpet\":[{\"aaxis\":{\"endlinecolor\":\"#2a3f5f\",\"gridcolor\":\"white\",\"linecolor\":\"white\",\"minorgridcolor\":\"white\",\"startlinecolor\":\"#2a3f5f\"},\"baxis\":{\"endlinecolor\":\"#2a3f5f\",\"gridcolor\":\"white\",\"linecolor\":\"white\",\"minorgridcolor\":\"white\",\"startlinecolor\":\"#2a3f5f\"},\"type\":\"carpet\"}],\"table\":[{\"cells\":{\"fill\":{\"color\":\"#EBF0F8\"},\"line\":{\"color\":\"white\"}},\"header\":{\"fill\":{\"color\":\"#C8D4E3\"},\"line\":{\"color\":\"white\"}},\"type\":\"table\"}],\"barpolar\":[{\"marker\":{\"line\":{\"color\":\"#E5ECF6\",\"width\":0.5},\"pattern\":{\"fillmode\":\"overlay\",\"size\":10,\"solidity\":0.2}},\"type\":\"barpolar\"}],\"pie\":[{\"automargin\":true,\"type\":\"pie\"}]},\"layout\":{\"autotypenumbers\":\"strict\",\"colorway\":[\"#636efa\",\"#EF553B\",\"#00cc96\",\"#ab63fa\",\"#FFA15A\",\"#19d3f3\",\"#FF6692\",\"#B6E880\",\"#FF97FF\",\"#FECB52\"],\"font\":{\"color\":\"#2a3f5f\"},\"hovermode\":\"closest\",\"hoverlabel\":{\"align\":\"left\"},\"paper_bgcolor\":\"white\",\"plot_bgcolor\":\"#E5ECF6\",\"polar\":{\"bgcolor\":\"#E5ECF6\",\"angularaxis\":{\"gridcolor\":\"white\",\"linecolor\":\"white\",\"ticks\":\"\"},\"radialaxis\":{\"gridcolor\":\"white\",\"linecolor\":\"white\",\"ticks\":\"\"}},\"ternary\":{\"bgcolor\":\"#E5ECF6\",\"aaxis\":{\"gridcolor\":\"white\",\"linecolor\":\"white\",\"ticks\":\"\"},\"baxis\":{\"gridcolor\":\"white\",\"linecolor\":\"white\",\"ticks\":\"\"},\"caxis\":{\"gridcolor\":\"white\",\"linecolor\":\"white\",\"ticks\":\"\"}},\"coloraxis\":{\"colorbar\":{\"outlinewidth\":0,\"ticks\":\"\"}},\"colorscale\":{\"sequential\":[[0.0,\"#0d0887\"],[0.1111111111111111,\"#46039f\"],[0.2222222222222222,\"#7201a8\"],[0.3333333333333333,\"#9c179e\"],[0.4444444444444444,\"#bd3786\"],[0.5555555555555556,\"#d8576b\"],[0.6666666666666666,\"#ed7953\"],[0.7777777777777778,\"#fb9f3a\"],[0.8888888888888888,\"#fdca26\"],[1.0,\"#f0f921\"]],\"sequentialminus\":[[0.0,\"#0d0887\"],[0.1111111111111111,\"#46039f\"],[0.2222222222222222,\"#7201a8\"],[0.3333333333333333,\"#9c179e\"],[0.4444444444444444,\"#bd3786\"],[0.5555555555555556,\"#d8576b\"],[0.6666666666666666,\"#ed7953\"],[0.7777777777777778,\"#fb9f3a\"],[0.8888888888888888,\"#fdca26\"],[1.0,\"#f0f921\"]],\"diverging\":[[0,\"#8e0152\"],[0.1,\"#c51b7d\"],[0.2,\"#de77ae\"],[0.3,\"#f1b6da\"],[0.4,\"#fde0ef\"],[0.5,\"#f7f7f7\"],[0.6,\"#e6f5d0\"],[0.7,\"#b8e186\"],[0.8,\"#7fbc41\"],[0.9,\"#4d9221\"],[1,\"#276419\"]]},\"xaxis\":{\"gridcolor\":\"white\",\"linecolor\":\"white\",\"ticks\":\"\",\"title\":{\"standoff\":15},\"zerolinecolor\":\"white\",\"automargin\":true,\"zerolinewidth\":2},\"yaxis\":{\"gridcolor\":\"white\",\"linecolor\":\"white\",\"ticks\":\"\",\"title\":{\"standoff\":15},\"zerolinecolor\":\"white\",\"automargin\":true,\"zerolinewidth\":2},\"scene\":{\"xaxis\":{\"backgroundcolor\":\"#E5ECF6\",\"gridcolor\":\"white\",\"linecolor\":\"white\",\"showbackground\":true,\"ticks\":\"\",\"zerolinecolor\":\"white\",\"gridwidth\":2},\"yaxis\":{\"backgroundcolor\":\"#E5ECF6\",\"gridcolor\":\"white\",\"linecolor\":\"white\",\"showbackground\":true,\"ticks\":\"\",\"zerolinecolor\":\"white\",\"gridwidth\":2},\"zaxis\":{\"backgroundcolor\":\"#E5ECF6\",\"gridcolor\":\"white\",\"linecolor\":\"white\",\"showbackground\":true,\"ticks\":\"\",\"zerolinecolor\":\"white\",\"gridwidth\":2}},\"shapedefaults\":{\"line\":{\"color\":\"#2a3f5f\"}},\"annotationdefaults\":{\"arrowcolor\":\"#2a3f5f\",\"arrowhead\":0,\"arrowwidth\":1},\"geo\":{\"bgcolor\":\"white\",\"landcolor\":\"#E5ECF6\",\"subunitcolor\":\"white\",\"showland\":true,\"showlakes\":true,\"lakecolor\":\"white\"},\"title\":{\"x\":0.05},\"mapbox\":{\"style\":\"light\"}}},\"legend\":{\"yanchor\":\"top\",\"y\":0.99,\"xanchor\":\"left\",\"x\":0.01},\"font\":{\"size\":10},\"scene\":{\"xaxis\":{\"title\":{\"text\":\"ilr1\"},\"range\":[-6,6]},\"yaxis\":{\"title\":{\"text\":\"ilr2\"},\"range\":[-6,6]},\"zaxis\":{\"title\":{\"text\":\"ilr3\"},\"range\":[-6,6]}}},                        {\"responsive\": true}                    ).then(function(){\n",
       "                            \n",
       "var gd = document.getElementById('2e70a624-3b13-458a-8a32-f13f35ccd1b6');\n",
       "var x = new MutationObserver(function (mutations, observer) {{\n",
       "        var display = window.getComputedStyle(gd).display;\n",
       "        if (!display || display === 'none') {{\n",
       "            console.log([gd, 'removed!']);\n",
       "            Plotly.purge(gd);\n",
       "            observer.disconnect();\n",
       "        }}\n",
       "}});\n",
       "\n",
       "// Listen for the removal of the full notebook cells\n",
       "var notebookContainer = gd.closest('#notebook-container');\n",
       "if (notebookContainer) {{\n",
       "    x.observe(notebookContainer, {childList: true});\n",
       "}}\n",
       "\n",
       "// Listen for the clearing of the current output cell\n",
       "var outputEl = gd.closest('.output');\n",
       "if (outputEl) {{\n",
       "    x.observe(outputEl, {childList: true});\n",
       "}}\n",
       "\n",
       "                        })                };                });            </script>        </div>"
      ]
     },
     "metadata": {},
     "output_type": "display_data"
    }
   ],
   "source": [
    "#PLOT THE SHAPLEY COMPOSITION IN THE 3D ILR SPACE (with gram-schmidt basis)\n",
    "\n",
    "fig = fig_3D_ilr_space(lim=6, figsize=750)\n",
    "\n",
    "\n",
    "#Draw base distribution and prediction\n",
    "fig.add_trace(go.Scatter3d(x=[base[0]], y=[base[1]], z=[base[2]], mode='markers', marker={'size' : 4}, name='base'))\n",
    "fig.add_trace(go.Scatter3d(x=[ilr_pred[0]], y=[ilr_pred[1]], z=[ilr_pred[2]], mode='markers', marker={'size' : 4}, name='prediction'))\n",
    "\n",
    "s = base.copy()\n",
    "for i,p in enumerate(shapley):\n",
    "    fig.add_trace(go.Scatter3d(x=[s[0],(s+p)[0]], y=[s[1],(s+p)[1]], z=[s[2],(s+p)[2]], mode='lines', line={'width' : 5}, name='feature n.'+str(i+1), legendgroup='shapley', legendgrouptitle_text='Shapley composition'))\n",
    "    s += p\n",
    "\n",
    "fig.show()"
   ]
  }
 ],
 "metadata": {
  "jupytext": {
   "cell_metadata_filter": "-all",
   "main_language": "python",
   "notebook_metadata_filter": "-all"
  },
  "kernelspec": {
   "display_name": "Python 3 (ipykernel)",
   "language": "python",
   "name": "python3"
  },
  "language_info": {
   "codemirror_mode": {
    "name": "ipython",
    "version": 3
   },
   "file_extension": ".py",
   "mimetype": "text/x-python",
   "name": "python",
   "nbconvert_exporter": "python",
   "pygments_lexer": "ipython3",
   "version": "3.11.6"
  }
 },
 "nbformat": 4,
 "nbformat_minor": 5
}
